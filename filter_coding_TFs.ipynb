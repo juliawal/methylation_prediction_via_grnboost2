{
  "cells": [
    {
      "cell_type": "code",
      "execution_count": null,
      "id": "68a84007",
      "metadata": {
        "id": "68a84007"
      },
      "outputs": [],
      "source": [
        "import numpy as np\n",
        "import pandas as pd\n",
        "import networkx as nx\n",
        "import seaborn as sns\n",
        "from matplotlib_venn import venn2\n",
        "import matplotlib.pyplot as plt\n",
        "from matplotlib.pyplot import MouseButton\n",
        "import random"
      ]
    },
    {
      "cell_type": "code",
      "execution_count": null,
      "id": "89Q19yBXKXKv",
      "metadata": {
        "colab": {
          "base_uri": "https://localhost:8080/"
        },
        "id": "89Q19yBXKXKv",
        "outputId": "d801d6a4-5cd8-44fa-efa6-1822295f7c78"
      },
      "outputs": [
        {
          "name": "stderr",
          "output_type": "stream",
          "text": [
            "<ipython-input-5-3ed863d8cc30>:1: DtypeWarning: Columns (1) have mixed types. Specify dtype option on import or set low_memory=False.\n",
            "  _ranking = pd.read_csv('/content/drive/MyDrive/Analyses/rnk_final.tsv', sep='\\t', header=None)\n"
          ]
        }
      ],
      "source": [
        "_ranking = pd.read_csv('aggr_rnk.tsv', sep='\\t', header=None)\n",
        "_ranking.columns = _ranking.iloc[0]\n",
        "_ranking = _ranking[1:]"
      ]
    },
    {
      "cell_type": "code",
      "execution_count": null,
      "id": "T88b0-oW6xWI",
      "metadata": {
        "colab": {
          "base_uri": "https://localhost:8080/"
        },
        "id": "T88b0-oW6xWI",
        "outputId": "68e18202-a2dc-4825-9250-2e605120083b"
      },
      "outputs": [
        {
          "name": "stdout",
          "output_type": "stream",
          "text": [
            "0                           TF_target      ranking\n",
            "1          ENSG00000146399_cg13998904          1.5\n",
            "2          ENSG00000273754_cg13880228          3.5\n",
            "3          ENSG00000214897_cg27656614         14.0\n",
            "4          ENSG00000269983_cg02763968         17.0\n",
            "5          ENSG00000219814_cg05843340         22.0\n",
            "...                               ...          ...\n",
            "104604703  ENSG00000274300_cg18314424  104602561.0\n",
            "104604704  ENSG00000258675_cg14080696  104602980.0\n",
            "104604705  ENSG00000253502_cg24173246  104603127.0\n",
            "104604706  ENSG00000169397_cg04652536  104603977.0\n",
            "104604707  ENSG00000223540_cg26695881  104604166.0\n",
            "\n",
            "[104604707 rows x 2 columns]\n"
          ]
        }
      ],
      "source": [
        "print(_ranking)"
      ]
    },
    {
      "cell_type": "code",
      "execution_count": null,
      "id": "297eP6-TSSIY",
      "metadata": {
        "id": "297eP6-TSSIY"
      },
      "outputs": [],
      "source": [
        "_topTF = _ranking['TF_target']"
      ]
    },
    {
      "cell_type": "code",
      "execution_count": null,
      "id": "Aug3nLFuT6qc",
      "metadata": {
        "colab": {
          "base_uri": "https://localhost:8080/"
        },
        "id": "Aug3nLFuT6qc",
        "outputId": "ed6df4ba-1ed1-4304-b17a-43880b3657f5"
      },
      "outputs": [
        {
          "name": "stdout",
          "output_type": "stream",
          "text": [
            "['ENSG00000146399_cg13998904', 'ENSG00000273754_cg13880228', 'ENSG00000214897_cg27656614', 'ENSG00000269983_cg02763968', 'ENSG00000219814_cg05843340', 'ENSG00000213770_cg13458803', 'ENSG00000242439_cg22677757', 'ENSG00000146399_cg09150163', 'ENSG00000227436_rs798149', 'ENSG00000199370_cg11626656']\n"
          ]
        }
      ],
      "source": [
        "\n",
        "_listetopTF = _topTF.to_list()"
      ]
    },
    {
      "cell_type": "code",
      "execution_count": null,
      "id": "7JWsdhIXWb5N",
      "metadata": {
        "id": "7JWsdhIXWb5N"
      },
      "outputs": [],
      "source": [
        "topTFs = []\n",
        "for i in range(0,len(_listetopTF)):\n",
        "  topTFs.append(_listetopTF[i][:15])\n"
      ]
    },
    {
      "cell_type": "code",
      "execution_count": null,
      "id": "zgNDnNa96b5O",
      "metadata": {
        "id": "zgNDnNa96b5O"
      },
      "outputs": [],
      "source": [
        "topTFs_without_duplicates = list(dict.fromkeys(topTFs))"
      ]
    },
    {
      "cell_type": "code",
      "execution_count": null,
      "id": "I7Rn770VX50K",
      "metadata": {
        "id": "I7Rn770VX50K"
      },
      "outputs": [],
      "source": [
        "_coding_genes = pd.read_csv('/content/drive/MyDrive/Analyses/gene_types.txt', sep='\\t', index_col=[0])"
      ]
    },
    {
      "cell_type": "code",
      "execution_count": null,
      "id": "73vK1fxxZF5L",
      "metadata": {
        "id": "73vK1fxxZF5L"
      },
      "outputs": [],
      "source": [
        "_coding_genes['Transcript type'] = _coding_genes.index\n",
        "__coding_genes = _coding_genes.loc[_coding_genes['Transcript type'] == (\"protein_coding\")]\n",
        "___coding_genes = _coding_genes.loc[_coding_genes['Transcript type'] == (\"protein_coding_CDS_not_defined\")]\n",
        "coding_genes = pd.concat([__coding_genes, ___coding_genes])\n",
        "liste_coding_genes = coding_genes['Gene stable ID'].tolist()"
      ]
    },
    {
      "cell_type": "code",
      "execution_count": null,
      "id": "VbvFeob6aCwQ",
      "metadata": {
        "colab": {
          "base_uri": "https://localhost:8080/"
        },
        "id": "VbvFeob6aCwQ",
        "outputId": "f68d3881-93bb-4c89-883b-4fc52e2fad7d"
      },
      "outputs": [
        {
          "name": "stdout",
          "output_type": "stream",
          "text": [
            "68\n"
          ]
        }
      ],
      "source": [
        "#coding_topTFs = list(set(topTFs) & set(liste_coding_genes))\n",
        "coding_topTFs = []\n",
        "for element in topTFs_without_duplicates[:1000]:\n",
        "  if element in liste_coding_genes:\n",
        "      coding_topTFs.append(element)"
      ]
    },
    {
      "cell_type": "code",
      "execution_count": null,
      "id": "aM8gjV9w9vxf",
      "metadata": {
        "id": "aM8gjV9w9vxf"
      },
      "outputs": [],
      "source": [
        "#df = pd.DataFrame(coding_topTFs)\n",
        "#df.to_csv('/content/drive/MyDrive/Analyses/coding_topTFs.csv', index=False)"
      ]
    },
    {
      "cell_type": "code",
      "execution_count": null,
      "id": "S7mjJa3_bOKQ",
      "metadata": {
        "id": "S7mjJa3_bOKQ"
      },
      "outputs": [],
      "source": [
        "top100TFs = coding_topTFs[:30]\n",
        "\n",
        "df = pd.DataFrame(top100TFs)\n",
        "df.to_csv('/content/drive/MyDrive/Analyses/ens_ID_top30TFs.csv', index=False)"
      ]
    },
    {
      "cell_type": "code",
      "execution_count": null,
      "id": "8mOdmBZ291rd",
      "metadata": {
        "id": "8mOdmBZ291rd"
      },
      "outputs": [],
      "source": []
    }
  ],
  "metadata": {
    "colab": {
      "machine_shape": "hm",
      "provenance": []
    },
    "kernelspec": {
      "display_name": "python-intro",
      "language": "python",
      "name": "python-intro"
    },
    "language_info": {
      "codemirror_mode": {
        "name": "ipython",
        "version": 3
      },
      "file_extension": ".py",
      "mimetype": "text/x-python",
      "name": "python",
      "nbconvert_exporter": "python",
      "pygments_lexer": "ipython3",
      "version": "3.10.4"
    }
  },
  "nbformat": 4,
  "nbformat_minor": 5
}
