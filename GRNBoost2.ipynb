{
 "cells": [
  {
   "cell_type": "code",
   "execution_count": 1,
   "id": "2b1ac5c2-2a61-48d9-b1e6-d1afdbef7c2a",
   "metadata": {},
   "outputs": [],
   "source": [
    "import pandas as pd\n",
    "from distributed import Client, LocalCluster\n",
    "from arboreto.utils import load_tf_names\n",
    "from arboreto.algo import grnboost2"
   ]
  },
  {
   "cell_type": "code",
   "execution_count": null,
   "id": "da4295b4-7616-4269-a492-e9f39f11dbea",
   "metadata": {},
   "outputs": [],
   "source": [
    "#load data\n",
    "in_file  = 'ex_matrix.tsv'\n",
    "tf_file  = 'tf_names.tsv'\n",
    "target_file = 'target_names.tsv'\n",
    "\n",
    "#ex_matrix is a DataFrame with gene names as column names\n",
    "ex_matrix = pd.read_csv(in_file, index_col=[0], sep='\\t') #index_col=[0] ?\n",
    "\n",
    "#tf_names is read using a utility function included in Arboreto\n",
    "tf_names = load_tf_names(tf_file)\n",
    "target_names = load_tf_names(target_file)\n",
    "\n",
    "n=10\n",
    "\n",
    "#print(ex_matrix.head(10))"
   ]
  },
  {
   "cell_type": "code",
   "execution_count": null,
   "id": "c18a15c8-dcec-4c3c-8563-e77d120cad1f",
   "metadata": {
    "tags": []
   },
   "outputs": [],
   "source": [
    "#run GRNBoost2 n times\n",
    "for i in range (1,n+1):\n",
    "    \n",
    "    print(\"Iteration \", i)\n",
    "\n",
    "    #instantiate Client\n",
    "    client = Client(LocalCluster())\n",
    "\n",
    "    #compute GRN\n",
    "    network = grnboost2(expression_data=ex_matrix, tf_names=tf_names, client_or_address=client, target_genes = target_names)\n",
    "\n",
    "    out_file = 'output/grn_output_' + str(i) + '.tsv'\n",
    "\n",
    "    network.to_csv(out_file, sep='\\t', index=False, header=False)"
   ]
  },
  {
   "cell_type": "code",
   "execution_count": 2,
   "id": "fa2dffac-8aca-4e69-ae7c-9ded7f403ab1",
   "metadata": {},
   "outputs": [],
   "source": [
    "#print(network)\n",
    "\n",
    "#Cleanup\n",
    "#import zmq\n",
    "#context = zmq.Context()\n",
    "#context.term()"
   ]
  }
 ],
 "metadata": {
  "kernelspec": {
   "display_name": "Python 3 (ipykernel)",
   "language": "python",
   "name": "python3"
  },
  "language_info": {
   "codemirror_mode": {
    "name": "ipython",
    "version": 3
   },
   "file_extension": ".py",
   "mimetype": "text/x-python",
   "name": "python",
   "nbconvert_exporter": "python",
   "pygments_lexer": "ipython3",
   "version": "3.11.5"
  }
 },
 "nbformat": 4,
 "nbformat_minor": 5
}
