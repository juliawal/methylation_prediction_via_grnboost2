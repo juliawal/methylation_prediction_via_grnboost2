{
 "cells": [
  {
   "cell_type": "code",
   "execution_count": null,
   "id": "843c8861-148d-484e-8ae5-fea004f78967",
   "metadata": {
    "tags": []
   },
   "outputs": [],
   "source": [
    "import pandas as pd"
   ]
  },
  {
   "cell_type": "code",
   "execution_count": 3,
   "id": "76173e53-ca83-4b43-86f4-8acf3fb48088",
   "metadata": {
    "tags": []
   },
   "outputs": [],
   "source": [
    "#method that return a dataframe with genename_cpgname as index and one column with the score created by GRNBoost2\n",
    "def prepare_file(i):\n",
    "    file_i = pd.read_csv('output/grn_output_' + str(i) +'.tsv', sep='\\t')\n",
    "    column_names = [\"genes\", \"cpgs\", \"rank_\"+str(i)]\n",
    "    file_i.columns = column_names\n",
    "    #neue Spalte mit genes_cpgs\n",
    "    file_i['combined'] = file_i['genes'].astype(str) + '_' + file_i['cpgs'].astype(str)\n",
    "    file_i = file_i.set_index('combined')\n",
    "    file_i = file_i.drop(['genes', 'cpgs'], axis=1)\n",
    "    return file_i"
   ]
  },
  {
   "cell_type": "code",
   "execution_count": null,
   "id": "b7fa8779-f59f-412c-a4d3-36e737152190",
   "metadata": {
    "tags": []
   },
   "outputs": [],
   "source": [
    "#concatenate the first 10 and the second 10 outputs (rank_1,...,rank_20) by GRNBoost2\n",
    "file_1 = prepare_file(1)\n",
    "file_2 = prepare_file(2)\n",
    "df_1 = pd.concat([file_1, file_2], axis=1)\n",
    "\n",
    "file_11 = prepare_file(11)\n",
    "file_12 = prepare_file(12)\n",
    "df_2 = pd.concat([file_11, file_12], axis=1)"
   ]
  },
  {
   "cell_type": "code",
   "execution_count": 22,
   "id": "a1937ed5-fce9-495f-9533-18806d6ae439",
   "metadata": {
    "tags": []
   },
   "outputs": [
    {
     "name": "stdout",
     "output_type": "stream",
     "text": [
      "                              rank_11   rank_12   rank_13   rank_14   rank_15  \\\n",
      "combined                                                                        \n",
      "ENSG00000225760_cg22345911  10.175619  3.240905  2.622024  3.027701  1.687854   \n",
      "ENSG00000225413_cg26817382   9.557869       NaN       NaN  2.119539  4.405218   \n",
      "ENSG00000271283_cg05394500   9.553420  1.217941  2.097326  3.946929  2.251409   \n",
      "ENSG00000242439_cg27229764   9.420404  4.371096  3.209941  1.256184  2.119509   \n",
      "ENSG00000177418_cg00265578   9.061085  1.042056  3.712630  5.816013  2.084738   \n",
      "...                               ...       ...       ...       ...       ...   \n",
      "ENSG00000226617_cg24580175        NaN       NaN       NaN       NaN       NaN   \n",
      "ENSG00000218107_cg06787431        NaN       NaN       NaN       NaN       NaN   \n",
      "ENSG00000259054_cg06787431        NaN       NaN       NaN       NaN       NaN   \n",
      "ENSG00000211937_cg09290941        NaN       NaN       NaN       NaN       NaN   \n",
      "ENSG00000201579_cg14864853        NaN       NaN       NaN       NaN       NaN   \n",
      "\n",
      "                             rank_16   rank_17   rank_18   rank_19  \\\n",
      "combined                                                             \n",
      "ENSG00000225760_cg22345911  4.871312  4.896328  5.155772  4.071206   \n",
      "ENSG00000225413_cg26817382  2.358566  4.573549  2.684432  1.882196   \n",
      "ENSG00000271283_cg05394500  0.797247  3.179522  4.362395  2.104477   \n",
      "ENSG00000242439_cg27229764  3.227060  4.858751  0.448098  3.324847   \n",
      "ENSG00000177418_cg00265578  2.543578  3.349843  2.331028  1.823309   \n",
      "...                              ...       ...       ...       ...   \n",
      "ENSG00000226617_cg24580175       NaN       NaN       NaN       NaN   \n",
      "ENSG00000218107_cg06787431       NaN       NaN       NaN       NaN   \n",
      "ENSG00000259054_cg06787431       NaN       NaN       NaN       NaN   \n",
      "ENSG00000211937_cg09290941       NaN       NaN       NaN       NaN   \n",
      "ENSG00000201579_cg14864853       NaN       NaN       NaN       NaN   \n",
      "\n",
      "                                 rank_20  \n",
      "combined                                  \n",
      "ENSG00000225760_cg22345911  1.951373e+00  \n",
      "ENSG00000225413_cg26817382  1.957155e+00  \n",
      "ENSG00000271283_cg05394500  4.244167e+00  \n",
      "ENSG00000242439_cg27229764  3.676857e+00  \n",
      "ENSG00000177418_cg00265578  1.741372e+00  \n",
      "...                                  ...  \n",
      "ENSG00000226617_cg24580175  5.170885e-14  \n",
      "ENSG00000218107_cg06787431  3.954544e-14  \n",
      "ENSG00000259054_cg06787431  3.873936e-14  \n",
      "ENSG00000211937_cg09290941  2.592372e-14  \n",
      "ENSG00000201579_cg14864853  9.602226e-15  \n",
      "\n",
      "[305637719 rows x 10 columns]\n"
     ]
    }
   ],
   "source": [
    "print(df_2)"
   ]
  },
  {
   "cell_type": "code",
   "execution_count": 21,
   "id": "7eede101-478b-47c8-96cf-a960985863c6",
   "metadata": {},
   "outputs": [],
   "source": [
    "for i in range(10,11):\n",
    "    file_i = prepare_file(i)\n",
    "    df_1 = pd.concat([df_1, file_i], axis=1)\n",
    "    \n",
    "for i in range(18,21):\n",
    "    file_i = prepare_file(i)\n",
    "    df_2 = pd.concat([df_2, file_i], axis=1)"
   ]
  },
  {
   "cell_type": "code",
   "execution_count": null,
   "id": "cd22ee95-2257-4abe-b038-9e2ce8176029",
   "metadata": {},
   "outputs": [],
   "source": [
    "df_1 = df_1.sort_values(by=['combined'], axis = 0) \n",
    "df_2 = df_2.sort_values(by=['combined'], axis = 0) "
   ]
  },
  {
   "cell_type": "code",
   "execution_count": 23,
   "id": "b6eeec19-aa48-4e24-bed8-4083cf8a2710",
   "metadata": {
    "tags": []
   },
   "outputs": [],
   "source": [
    "#fill NaN values with 0\n",
    "df_1 = df_1.fillna(0)\n",
    "df_2 = df_2.fillna(0)"
   ]
  },
  {
   "cell_type": "code",
   "execution_count": 24,
   "id": "05fd4439-8b93-4d6b-a8e6-b87fab2c3025",
   "metadata": {
    "tags": []
   },
   "outputs": [],
   "source": [
    "#save to file\n",
    "df_1.to_csv('combined_1.tsv')\n",
    "df_2.to_csv('combined_2.tsv')"
   ]
  },
  {
   "cell_type": "code",
   "execution_count": null,
   "id": "594d3518-5732-49e6-b4ee-74d95eac6987",
   "metadata": {},
   "outputs": [],
   "source": []
  },
  {
   "cell_type": "code",
   "execution_count": null,
   "id": "706f6537-adf0-4c1e-9b76-4e7e9ce26548",
   "metadata": {},
   "outputs": [],
   "source": []
  }
 ],
 "metadata": {
  "kernelspec": {
   "display_name": "Python 3 (ipykernel)",
   "language": "python",
   "name": "python3"
  },
  "language_info": {
   "codemirror_mode": {
    "name": "ipython",
    "version": 3
   },
   "file_extension": ".py",
   "mimetype": "text/x-python",
   "name": "python",
   "nbconvert_exporter": "python",
   "pygments_lexer": "ipython3",
   "version": "3.11.5"
  }
 },
 "nbformat": 4,
 "nbformat_minor": 5
}
