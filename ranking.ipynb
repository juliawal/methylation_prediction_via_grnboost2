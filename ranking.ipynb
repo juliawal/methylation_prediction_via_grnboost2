{
 "cells": [
  {
   "cell_type": "code",
   "execution_count": 1,
   "id": "463f09ff-40ab-43bd-9105-a3bc37641e03",
   "metadata": {
    "tags": []
   },
   "outputs": [],
   "source": [
    "import pandas as pd\n",
    "import scipy"
   ]
  },
  {
   "cell_type": "code",
   "execution_count": null,
   "id": "7e306286-f2ee-44f6-970a-1e9f4f8ff5b0",
   "metadata": {
    "tags": []
   },
   "outputs": [],
   "source": [
    "combined_1 = pd.read_csv('combined_1.tsv', sep=',')\n",
    "combined_2 = pd.read_csv('combined_2.tsv', sep=',')"
   ]
  },
  {
   "cell_type": "code",
   "execution_count": null,
   "id": "19739d4a-ca1b-4c41-a6f7-11c1922ee974",
   "metadata": {},
   "outputs": [],
   "source": [
    "df = pd.DataFrame()"
   ]
  },
  {
   "cell_type": "code",
   "execution_count": null,
   "id": "6a203875-049b-4d11-8e8e-b08571d9903b",
   "metadata": {},
   "outputs": [],
   "source": [
    "for i in range(1,11):\n",
    "    numbers = combined_1[[\"rank_\" + str(i)]].to_numpy()\n",
    "    _ranked = scipy.stats.rankdata(numbers, method='dense')\n",
    "    ranked = max(_ranked) - _ranked.astype(int) + 1\n",
    "    df['ranking_' + str(i)] = ranked.tolist()\n",
    "    \n",
    "ranking_1 = df"
   ]
  },
  {
   "cell_type": "code",
   "execution_count": 23,
   "id": "16a2b6d4-c7d6-4906-8e30-76902305065d",
   "metadata": {
    "tags": []
   },
   "outputs": [],
   "source": [
    "df = pd.DataFrame()"
   ]
  },
  {
   "cell_type": "code",
   "execution_count": 25,
   "id": "1c096808-feca-4dc7-a91c-a3516b6e0acb",
   "metadata": {
    "tags": []
   },
   "outputs": [],
   "source": [
    "for i in range(11,21):\n",
    "    numbers = combined_2[[\"rank_\" + str(i)]].to_numpy()\n",
    "    _ranked = scipy.stats.rankdata(numbers, method='dense')\n",
    "    ranked = max(_ranked) - _ranked.astype(int) + 1\n",
    "    df['ranking_' + str(i)] = ranked.tolist()\n",
    "    \n",
    "ranking_2 = df"
   ]
  },
  {
   "cell_type": "code",
   "execution_count": 3,
   "id": "cc9dec67-0c66-4192-9f08-97905030a7b3",
   "metadata": {
    "tags": []
   },
   "outputs": [],
   "source": [
    "combined_1 = combined_1[\"combined\"]\n",
    "combined_2 = combined_2[\"combined\"]"
   ]
  },
  {
   "cell_type": "code",
   "execution_count": 4,
   "id": "58cf5253-3b58-480c-9ffd-414879495dcf",
   "metadata": {
    "tags": []
   },
   "outputs": [],
   "source": [
    "ranking_1.reset_index(drop=True, inplace=True)\n",
    "ranking_2.reset_index(drop=True, inplace=True)\n",
    "combined_1.reset_index(drop=True, inplace=True)\n",
    "combined_2.reset_index(drop=True, inplace=True)"
   ]
  },
  {
   "cell_type": "code",
   "execution_count": 10,
   "id": "9df63c82-c746-44c9-9914-04a3d4928491",
   "metadata": {
    "tags": []
   },
   "outputs": [
    {
     "name": "stdout",
     "output_type": "stream",
     "text": [
      "                            Unnamed: 0  ranking_1  ranking_2  ranking_3  \\\n",
      "TF_target                                                                 \n",
      "ENSG00000244573_cg21726593           0          1    1024430        351   \n",
      "ENSG00000253178_cg05544394           1          2     165935     201228   \n",
      "ENSG00000270767_cg02374837           2          3      15784      84306   \n",
      "ENSG00000240665_cg20112735           3          4     137286     202851   \n",
      "ENSG00000268390_cg26543799           4          5      25393     160798   \n",
      "...                                ...        ...        ...        ...   \n",
      "ENSG00000211779_cg03100146   305650416   47426179   47454379   47450983   \n",
      "ENSG00000212901_cg17984638   305650417   47426179   47454379   47450983   \n",
      "ENSG00000231501_cg14183184   305650418   47426179   47454379   47450983   \n",
      "ENSG00000201208_cg19163939   305650419   47426179   47454379   47450983   \n",
      "ENSG00000200059_cg18561261   305650420   47426179   47454379   47450983   \n",
      "\n",
      "                            ranking_4  ranking_5  ranking_6  ranking_7  \\\n",
      "TF_target                                                                \n",
      "ENSG00000244573_cg21726593   47441155     189148      75723    1026654   \n",
      "ENSG00000253178_cg05544394   47441155     152752     498944     162155   \n",
      "ENSG00000270767_cg02374837     925101    1123400      14562    1389137   \n",
      "ENSG00000240665_cg20112735       4356       6508       2807       1048   \n",
      "ENSG00000268390_cg26543799      26035      14214       9940      12016   \n",
      "...                               ...        ...        ...        ...   \n",
      "ENSG00000211779_cg03100146   47441155   47453308   47449966   47445627   \n",
      "ENSG00000212901_cg17984638   47441155   47453308   47449966   47445627   \n",
      "ENSG00000231501_cg14183184   47441155   47453308   47449966   47445627   \n",
      "ENSG00000201208_cg19163939   47441155   47453308   47449966   47445627   \n",
      "ENSG00000200059_cg18561261   47441155   47453308   47449966   47445627   \n",
      "\n",
      "                            ranking_8  ranking_9  ranking_10  \n",
      "TF_target                                                     \n",
      "ENSG00000244573_cg21726593      10978      12550       32449  \n",
      "ENSG00000253178_cg05544394      66407   47438395      150009  \n",
      "ENSG00000270767_cg02374837      39135       1876     1264744  \n",
      "ENSG00000240665_cg20112735          7         42         913  \n",
      "ENSG00000268390_cg26543799       8626       2887       97405  \n",
      "...                               ...        ...         ...  \n",
      "ENSG00000211779_cg03100146   47441628   47438395    47435665  \n",
      "ENSG00000212901_cg17984638   47441628   47438395    47435667  \n",
      "ENSG00000231501_cg14183184   47441628   47438395    47435668  \n",
      "ENSG00000201208_cg19163939   47441628   47438395    47435669  \n",
      "ENSG00000200059_cg18561261   47441628   47438395    47435670  \n",
      "\n",
      "[305650421 rows x 11 columns]\n"
     ]
    }
   ],
   "source": [
    "rnk_1 = pd.concat([combined_1,ranking_1],axis=1)\n",
    "rnk_1 = rnk_1.rename(columns={\"combined\": \"TF_target\"})\n",
    "rnk_1.set_index('TF_target', inplace=True)\n",
    "rnk_1 = rnk_1.drop(['Unnamed: 0'], axis=1)\n",
    "rnk_1.to_csv('ranking_1.tsv')"
   ]
  },
  {
   "cell_type": "code",
   "execution_count": 16,
   "id": "3d16cb9c-7c12-42a6-8258-33a0b6cb8a2a",
   "metadata": {
    "tags": []
   },
   "outputs": [],
   "source": [
    "rnk_2 = pd.concat([combined_2,ranking_2],axis=1)\n",
    "rnk_2 = rnk_2.rename(columns={\"combined\": \"TF_target\"})\n",
    "rnk_2.set_index('TF_target', inplace=True)\n",
    "rnk_2 = rnk_2.drop(['Unnamed: 0'], axis=1)\n",
    "rnk_2.to_csv('ranking_2.tsv')"
   ]
  },
  {
   "cell_type": "code",
   "execution_count": null,
   "id": "08432106-52c0-4e1a-8b3c-15ff99a5f29d",
   "metadata": {},
   "outputs": [],
   "source": []
  }
 ],
 "metadata": {
  "kernelspec": {
   "display_name": "Python 3 (ipykernel)",
   "language": "python",
   "name": "python3"
  },
  "language_info": {
   "codemirror_mode": {
    "name": "ipython",
    "version": 3
   },
   "file_extension": ".py",
   "mimetype": "text/x-python",
   "name": "python",
   "nbconvert_exporter": "python",
   "pygments_lexer": "ipython3",
   "version": "3.11.5"
  }
 },
 "nbformat": 4,
 "nbformat_minor": 5
}
