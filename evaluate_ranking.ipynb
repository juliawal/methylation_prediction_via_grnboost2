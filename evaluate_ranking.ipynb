{
 "cells": [
  {
   "cell_type": "code",
   "execution_count": 2,
   "id": "2f78c026-3e3a-487c-bbc1-3af3fa42fb72",
   "metadata": {
    "tags": []
   },
   "outputs": [],
   "source": [
    "import pandas as pd\n",
    "import scipy\n",
    "import ranky as rky"
   ]
  },
  {
   "cell_type": "code",
   "execution_count": 3,
   "id": "5ceb20d8-4e66-4c4d-a980-2a3d2039a0d5",
   "metadata": {
    "tags": []
   },
   "outputs": [],
   "source": [
    "ranking_1 = pd.read_csv('ranking_1.tsv', sep=',')"
   ]
  },
  {
   "cell_type": "code",
   "execution_count": null,
   "id": "67c266be",
   "metadata": {},
   "outputs": [],
   "source": [
    "ranking_2 = pd.read_csv('ranking_2.tsv', sep=',')"
   ]
  },
  {
   "cell_type": "code",
   "execution_count": 15,
   "id": "615c5c16-9a84-4bbb-875f-5b8998bfff31",
   "metadata": {
    "tags": []
   },
   "outputs": [],
   "source": [
    "ranking_1.set_index('TF_target', inplace=True)\n",
    "ranking_2.set_index('TF_target', inplace=True)"
   ]
  },
  {
   "cell_type": "code",
   "execution_count": 16,
   "id": "0c2003a8-ca19-4d2e-840c-bb8a9c9a6d3f",
   "metadata": {
    "tags": []
   },
   "outputs": [],
   "source": [
    "#rky.kendall_tau_distance(ranking_1[[\"ranking_1\"]].to_numpy(), ranking_1[[\"ranking_3\"]].to_numpy())"
   ]
  },
  {
   "cell_type": "code",
   "execution_count": 10,
   "id": "5da520ee-2508-459e-8d4c-2a254a12d03a",
   "metadata": {
    "tags": []
   },
   "outputs": [],
   "source": [
    "#create aggregated ranking via borda count\n",
    "aggr_ranking_1 = rky.borda(ranking_1, axis=1)\n",
    "aggr_ranking_2 = rky.borda(ranking_2, axis=1)"
   ]
  },
  {
   "cell_type": "code",
   "execution_count": 11,
   "id": "a1368e24-9ef5-422c-8202-25e6929665dc",
   "metadata": {
    "tags": []
   },
   "outputs": [],
   "source": [
    "aggr_ranking_1.to_csv('aggr_ranking_1.tsv', sep='\\t')\n",
    "aggr_ranking_2.to_csv('aggr_ranking_2.tsv', sep='\\t')"
   ]
  },
  {
   "cell_type": "code",
   "execution_count": 27,
   "id": "8ebb6c7c-c14c-4aad-9775-a70e784aa926",
   "metadata": {
    "tags": []
   },
   "outputs": [],
   "source": [
    "df_1 = pd.DataFrame({'TF_target':aggr_ranking_1.index, 'ranking_1':aggr_ranking_1.values})\n",
    "df_2 = pd.DataFrame({'TF_target':aggr_ranking_2.index, 'ranking_2':aggr_ranking_2.values})"
   ]
  },
  {
   "cell_type": "code",
   "execution_count": 28,
   "id": "ab02ba2d-b62f-4637-8782-1eb2198a6b28",
   "metadata": {
    "tags": []
   },
   "outputs": [],
   "source": [
    "merged = pd.merge(df_1, df_2, on='TF_target', how='inner')\n",
    "merged.set_index('TF_target', inplace=True)"
   ]
  },
  {
   "cell_type": "code",
   "execution_count": 29,
   "id": "46952075-f3a8-4997-a659-3ccf2b3c5ca0",
   "metadata": {
    "tags": []
   },
   "outputs": [
    {
     "data": {
      "text/plain": [
       "1416292852198971.5"
      ]
     },
     "execution_count": 29,
     "metadata": {},
     "output_type": "execute_result"
    }
   ],
   "source": [
    "rky.kendall_tau_distance(merged[[\"ranking_1\"]].to_numpy(), merged[[\"ranking_2\"]].to_numpy()) #[1:305637719]"
   ]
  },
  {
   "cell_type": "code",
   "execution_count": 30,
   "id": "b6bf3857-946c-4119-b363-4ebc2f8f957e",
   "metadata": {
    "tags": []
   },
   "outputs": [],
   "source": [
    "#create one final aggregated ranking out of the two aggregated rankings via borda count\n",
    "aggr_ranking = rky.borda(merged, axis=1)\n",
    "df = aggr_ranking.to_frame(name=\"ranking\")\n",
    "rnk_final = df.sort_values(by=['ranking'])"
   ]
  },
  {
   "cell_type": "code",
   "execution_count": 31,
   "id": "919033e3-0ce6-4b42-8be6-f329d589f4ad",
   "metadata": {
    "tags": []
   },
   "outputs": [],
   "source": [
    "rnk_final.to_csv('aggr_rnk.tsv', sep='\\t')"
   ]
  }
 ],
 "metadata": {
  "kernelspec": {
   "display_name": "Python 3 (ipykernel)",
   "language": "python",
   "name": "python3"
  },
  "language_info": {
   "codemirror_mode": {
    "name": "ipython",
    "version": 3
   },
   "file_extension": ".py",
   "mimetype": "text/x-python",
   "name": "python",
   "nbconvert_exporter": "python",
   "pygments_lexer": "ipython3",
   "version": "3.11.3"
  }
 },
 "nbformat": 4,
 "nbformat_minor": 5
}
