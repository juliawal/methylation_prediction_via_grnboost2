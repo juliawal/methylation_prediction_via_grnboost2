{
 "cells": [
  {
   "cell_type": "code",
   "execution_count": 36,
   "id": "220e0d4a-6f9a-4fb3-8dba-9a8b3beae5d6",
   "metadata": {
    "tags": []
   },
   "outputs": [],
   "source": [
    "import pandas as pd"
   ]
  },
  {
   "cell_type": "code",
   "execution_count": 80,
   "id": "96691005-4c35-49f1-b0db-483c16cbbf1b",
   "metadata": {
    "tags": []
   },
   "outputs": [],
   "source": [
    "#load data\n",
    "_cpgs  = 'matrix_methylation.tsv'\n",
    "_genes = 'matrix_rna.tsv'\n",
    "cpgs = pd.read_csv(_cpgs, sep='\\t', index_col=[0])\n",
    "cpgs = cpgs.dropna(axis=1, how='all')\n",
    "genes = pd.read_csv(_genes, sep='\\t', index_col=[0]) \n",
    "genes = genes.dropna(axis=1, how='all')"
   ]
  },
  {
   "cell_type": "code",
   "execution_count": 81,
   "id": "d1b20050-af97-41d3-b12f-c82f32d814a9",
   "metadata": {
    "tags": []
   },
   "outputs": [],
   "source": [
    "#load info for coding/non-coding genes\n",
    "path_gene_types = 'gene_types.txt'\n",
    "gene_types = pd.read_csv(path_gene_types, index_col=[0], sep='\\t')"
   ]
  },
  {
   "cell_type": "code",
   "execution_count": 82,
   "id": "58844add-9842-4df9-b6b2-e8343fbdd08e",
   "metadata": {
    "tags": []
   },
   "outputs": [],
   "source": [
    "#get list of coding genes without version info\n",
    "gene_types['Transcript type'] = gene_types.index\n",
    "_coding = gene_types.loc[gene_types['Transcript type'] == (\"protein_coding\")]\n",
    "__coding = gene_types.loc[gene_types['Transcript type'] == (\"protein_coding_CDS_not_defined\")]\n",
    "coding = pd.concat([_coding, __coding])\n",
    "coding_list = coding['Gene stable ID version'].tolist()\n",
    "rounded_coding = [x[:15] for x in coding_list]"
   ]
  },
  {
   "cell_type": "code",
   "execution_count": 83,
   "id": "e33546af-cd79-4a98-86f4-d0813da105b1",
   "metadata": {
    "tags": []
   },
   "outputs": [],
   "source": [
    "#convert gene names to names without version info\n",
    "rounded_genes = [x[:15] for x in list(genes.columns)]\n",
    "genes = genes.set_axis(rounded_genes, axis=1)"
   ]
  },
  {
   "cell_type": "code",
   "execution_count": 84,
   "id": "281b557c-1882-4dff-b1df-bdfb6427b5a2",
   "metadata": {
    "tags": []
   },
   "outputs": [],
   "source": [
    "#only use 5000 genes with the highest variance in the gene expression matrix\n",
    "var = genes.var(axis=0, skipna=True)\n",
    "sort = var.sort_values(ascending=False)\n",
    "sort5000 = sort[:5000]\n",
    "list5000 = list(sort5000.index)\n",
    "genes = genes.loc[:, genes.columns.intersection(list5000)]"
   ]
  },
  {
   "cell_type": "code",
   "execution_count": 90,
   "id": "f2d8117b-0cac-4fbf-942c-fc58b82e7e72",
   "metadata": {
    "tags": []
   },
   "outputs": [],
   "source": [
    "#set genes and cpgs together to the expression matrix\n",
    "cpgs.reset_index(drop=True, inplace=True)\n",
    "genes.reset_index(drop=True, inplace=True)\n",
    "ex_matrix = pd.concat([genes, cpgs],axis=1)"
   ]
  },
  {
   "cell_type": "code",
   "execution_count": 91,
   "id": "6c7cf365-2501-4784-b10a-63e549a8d241",
   "metadata": {
    "tags": []
   },
   "outputs": [],
   "source": [
    "#get transcription factor (genes) names and target (cpgs) names\n",
    "tf_names = pd.DataFrame(genes.columns)\n",
    "tf_names.index.name = None\n",
    "target_names = pd.DataFrame(cpgs.columns)\n",
    "target_names.index.name = None"
   ]
  },
  {
   "cell_type": "code",
   "execution_count": 92,
   "id": "84340790-335f-4dbc-a401-e61bfacff608",
   "metadata": {},
   "outputs": [],
   "source": [
    "#save to .tsv file\n",
    "ex_matrix.to_csv('ex_matrix.tsv', sep='\\t')\n",
    "tf_names.to_csv('tf_names.tsv', sep='\\t', index = False, header = False)\n",
    "target_names.to_csv('target_names.tsv', sep='\\t', index = False, header = False)"
   ]
  }
 ],
 "metadata": {
  "kernelspec": {
   "display_name": "Python 3 (ipykernel)",
   "language": "python",
   "name": "python3"
  },
  "language_info": {
   "codemirror_mode": {
    "name": "ipython",
    "version": 3
   },
   "file_extension": ".py",
   "mimetype": "text/x-python",
   "name": "python",
   "nbconvert_exporter": "python",
   "pygments_lexer": "ipython3",
   "version": "3.11.5"
  }
 },
 "nbformat": 4,
 "nbformat_minor": 5
}
